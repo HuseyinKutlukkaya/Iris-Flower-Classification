{
  "nbformat": 4,
  "nbformat_minor": 0,
  "metadata": {
    "colab": {
      "name": "Main.ipynb",
      "provenance": [],
      "authorship_tag": "ABX9TyMAYfRWZz4TTWL2VYiPy0YC",
      "include_colab_link": true
    },
    "kernelspec": {
      "name": "python3",
      "display_name": "Python 3"
    }
  },
  "cells": [
    {
      "cell_type": "markdown",
      "metadata": {
        "id": "view-in-github",
        "colab_type": "text"
      },
      "source": [
        "<a href=\"https://colab.research.google.com/github/HuseyinKutlukkaya/Iris-Flower-Classification/blob/main/Main.ipynb\" target=\"_parent\"><img src=\"https://colab.research.google.com/assets/colab-badge.svg\" alt=\"Open In Colab\"/></a>"
      ]
    },
    {
      "cell_type": "markdown",
      "metadata": {
        "id": "iFN_IeMgpC9p"
      },
      "source": [
        "###Importing the libraries"
      ]
    },
    {
      "cell_type": "code",
      "metadata": {
        "id": "1AMW24-EokVi"
      },
      "source": [
        "import numpy as np\r\n",
        "import matplotlib.pyplot as plt\r\n",
        "import pandas as pd\r\n"
      ],
      "execution_count": 59,
      "outputs": []
    },
    {
      "cell_type": "markdown",
      "metadata": {
        "id": "G4CvyRHVpTKv"
      },
      "source": [
        "###Importing the dataset"
      ]
    },
    {
      "cell_type": "code",
      "metadata": {
        "id": "7LHYHILopX5Z"
      },
      "source": [
        "dataset=pd.read_csv('iris.data')\r\n",
        "X=dataset.iloc[:,:-1].values\r\n",
        "y=dataset.iloc[:,-1].values\r\n",
        "y=y.reshape(len(y),1)"
      ],
      "execution_count": 60,
      "outputs": []
    },
    {
      "cell_type": "code",
      "metadata": {
        "colab": {
          "base_uri": "https://localhost:8080/"
        },
        "id": "6LACY9CApqwM",
        "outputId": "e28ac300-4c54-4b61-8857-544b82777c71"
      },
      "source": [
        "print(X)\r\n"
      ],
      "execution_count": 61,
      "outputs": [
        {
          "output_type": "stream",
          "text": [
            "[[4.9 3.  1.4 0.2]\n",
            " [4.7 3.2 1.3 0.2]\n",
            " [4.6 3.1 1.5 0.2]\n",
            " [5.  3.6 1.4 0.2]\n",
            " [5.4 3.9 1.7 0.4]\n",
            " [4.6 3.4 1.4 0.3]\n",
            " [5.  3.4 1.5 0.2]\n",
            " [4.4 2.9 1.4 0.2]\n",
            " [4.9 3.1 1.5 0.1]\n",
            " [5.4 3.7 1.5 0.2]\n",
            " [4.8 3.4 1.6 0.2]\n",
            " [4.8 3.  1.4 0.1]\n",
            " [4.3 3.  1.1 0.1]\n",
            " [5.8 4.  1.2 0.2]\n",
            " [5.7 4.4 1.5 0.4]\n",
            " [5.4 3.9 1.3 0.4]\n",
            " [5.1 3.5 1.4 0.3]\n",
            " [5.7 3.8 1.7 0.3]\n",
            " [5.1 3.8 1.5 0.3]\n",
            " [5.4 3.4 1.7 0.2]\n",
            " [5.1 3.7 1.5 0.4]\n",
            " [4.6 3.6 1.  0.2]\n",
            " [5.1 3.3 1.7 0.5]\n",
            " [4.8 3.4 1.9 0.2]\n",
            " [5.  3.  1.6 0.2]\n",
            " [5.  3.4 1.6 0.4]\n",
            " [5.2 3.5 1.5 0.2]\n",
            " [5.2 3.4 1.4 0.2]\n",
            " [4.7 3.2 1.6 0.2]\n",
            " [4.8 3.1 1.6 0.2]\n",
            " [5.4 3.4 1.5 0.4]\n",
            " [5.2 4.1 1.5 0.1]\n",
            " [5.5 4.2 1.4 0.2]\n",
            " [4.9 3.1 1.5 0.1]\n",
            " [5.  3.2 1.2 0.2]\n",
            " [5.5 3.5 1.3 0.2]\n",
            " [4.9 3.1 1.5 0.1]\n",
            " [4.4 3.  1.3 0.2]\n",
            " [5.1 3.4 1.5 0.2]\n",
            " [5.  3.5 1.3 0.3]\n",
            " [4.5 2.3 1.3 0.3]\n",
            " [4.4 3.2 1.3 0.2]\n",
            " [5.  3.5 1.6 0.6]\n",
            " [5.1 3.8 1.9 0.4]\n",
            " [4.8 3.  1.4 0.3]\n",
            " [5.1 3.8 1.6 0.2]\n",
            " [4.6 3.2 1.4 0.2]\n",
            " [5.3 3.7 1.5 0.2]\n",
            " [5.  3.3 1.4 0.2]\n",
            " [7.  3.2 4.7 1.4]\n",
            " [6.4 3.2 4.5 1.5]\n",
            " [6.9 3.1 4.9 1.5]\n",
            " [5.5 2.3 4.  1.3]\n",
            " [6.5 2.8 4.6 1.5]\n",
            " [5.7 2.8 4.5 1.3]\n",
            " [6.3 3.3 4.7 1.6]\n",
            " [4.9 2.4 3.3 1. ]\n",
            " [6.6 2.9 4.6 1.3]\n",
            " [5.2 2.7 3.9 1.4]\n",
            " [5.  2.  3.5 1. ]\n",
            " [5.9 3.  4.2 1.5]\n",
            " [6.  2.2 4.  1. ]\n",
            " [6.1 2.9 4.7 1.4]\n",
            " [5.6 2.9 3.6 1.3]\n",
            " [6.7 3.1 4.4 1.4]\n",
            " [5.6 3.  4.5 1.5]\n",
            " [5.8 2.7 4.1 1. ]\n",
            " [6.2 2.2 4.5 1.5]\n",
            " [5.6 2.5 3.9 1.1]\n",
            " [5.9 3.2 4.8 1.8]\n",
            " [6.1 2.8 4.  1.3]\n",
            " [6.3 2.5 4.9 1.5]\n",
            " [6.1 2.8 4.7 1.2]\n",
            " [6.4 2.9 4.3 1.3]\n",
            " [6.6 3.  4.4 1.4]\n",
            " [6.8 2.8 4.8 1.4]\n",
            " [6.7 3.  5.  1.7]\n",
            " [6.  2.9 4.5 1.5]\n",
            " [5.7 2.6 3.5 1. ]\n",
            " [5.5 2.4 3.8 1.1]\n",
            " [5.5 2.4 3.7 1. ]\n",
            " [5.8 2.7 3.9 1.2]\n",
            " [6.  2.7 5.1 1.6]\n",
            " [5.4 3.  4.5 1.5]\n",
            " [6.  3.4 4.5 1.6]\n",
            " [6.7 3.1 4.7 1.5]\n",
            " [6.3 2.3 4.4 1.3]\n",
            " [5.6 3.  4.1 1.3]\n",
            " [5.5 2.5 4.  1.3]\n",
            " [5.5 2.6 4.4 1.2]\n",
            " [6.1 3.  4.6 1.4]\n",
            " [5.8 2.6 4.  1.2]\n",
            " [5.  2.3 3.3 1. ]\n",
            " [5.6 2.7 4.2 1.3]\n",
            " [5.7 3.  4.2 1.2]\n",
            " [5.7 2.9 4.2 1.3]\n",
            " [6.2 2.9 4.3 1.3]\n",
            " [5.1 2.5 3.  1.1]\n",
            " [5.7 2.8 4.1 1.3]\n",
            " [6.3 3.3 6.  2.5]\n",
            " [5.8 2.7 5.1 1.9]\n",
            " [7.1 3.  5.9 2.1]\n",
            " [6.3 2.9 5.6 1.8]\n",
            " [6.5 3.  5.8 2.2]\n",
            " [7.6 3.  6.6 2.1]\n",
            " [4.9 2.5 4.5 1.7]\n",
            " [7.3 2.9 6.3 1.8]\n",
            " [6.7 2.5 5.8 1.8]\n",
            " [7.2 3.6 6.1 2.5]\n",
            " [6.5 3.2 5.1 2. ]\n",
            " [6.4 2.7 5.3 1.9]\n",
            " [6.8 3.  5.5 2.1]\n",
            " [5.7 2.5 5.  2. ]\n",
            " [5.8 2.8 5.1 2.4]\n",
            " [6.4 3.2 5.3 2.3]\n",
            " [6.5 3.  5.5 1.8]\n",
            " [7.7 3.8 6.7 2.2]\n",
            " [7.7 2.6 6.9 2.3]\n",
            " [6.  2.2 5.  1.5]\n",
            " [6.9 3.2 5.7 2.3]\n",
            " [5.6 2.8 4.9 2. ]\n",
            " [7.7 2.8 6.7 2. ]\n",
            " [6.3 2.7 4.9 1.8]\n",
            " [6.7 3.3 5.7 2.1]\n",
            " [7.2 3.2 6.  1.8]\n",
            " [6.2 2.8 4.8 1.8]\n",
            " [6.1 3.  4.9 1.8]\n",
            " [6.4 2.8 5.6 2.1]\n",
            " [7.2 3.  5.8 1.6]\n",
            " [7.4 2.8 6.1 1.9]\n",
            " [7.9 3.8 6.4 2. ]\n",
            " [6.4 2.8 5.6 2.2]\n",
            " [6.3 2.8 5.1 1.5]\n",
            " [6.1 2.6 5.6 1.4]\n",
            " [7.7 3.  6.1 2.3]\n",
            " [6.3 3.4 5.6 2.4]\n",
            " [6.4 3.1 5.5 1.8]\n",
            " [6.  3.  4.8 1.8]\n",
            " [6.9 3.1 5.4 2.1]\n",
            " [6.7 3.1 5.6 2.4]\n",
            " [6.9 3.1 5.1 2.3]\n",
            " [5.8 2.7 5.1 1.9]\n",
            " [6.8 3.2 5.9 2.3]\n",
            " [6.7 3.3 5.7 2.5]\n",
            " [6.7 3.  5.2 2.3]\n",
            " [6.3 2.5 5.  1.9]\n",
            " [6.5 3.  5.2 2. ]\n",
            " [6.2 3.4 5.4 2.3]\n",
            " [5.9 3.  5.1 1.8]]\n"
          ],
          "name": "stdout"
        }
      ]
    },
    {
      "cell_type": "code",
      "metadata": {
        "colab": {
          "base_uri": "https://localhost:8080/"
        },
        "id": "ZPgD0oW0w1eD",
        "outputId": "40cce154-cf4e-476c-c57c-84025279e9b6"
      },
      "source": [
        "print(y)"
      ],
      "execution_count": 62,
      "outputs": [
        {
          "output_type": "stream",
          "text": [
            "[['Iris-setosa']\n",
            " ['Iris-setosa']\n",
            " ['Iris-setosa']\n",
            " ['Iris-setosa']\n",
            " ['Iris-setosa']\n",
            " ['Iris-setosa']\n",
            " ['Iris-setosa']\n",
            " ['Iris-setosa']\n",
            " ['Iris-setosa']\n",
            " ['Iris-setosa']\n",
            " ['Iris-setosa']\n",
            " ['Iris-setosa']\n",
            " ['Iris-setosa']\n",
            " ['Iris-setosa']\n",
            " ['Iris-setosa']\n",
            " ['Iris-setosa']\n",
            " ['Iris-setosa']\n",
            " ['Iris-setosa']\n",
            " ['Iris-setosa']\n",
            " ['Iris-setosa']\n",
            " ['Iris-setosa']\n",
            " ['Iris-setosa']\n",
            " ['Iris-setosa']\n",
            " ['Iris-setosa']\n",
            " ['Iris-setosa']\n",
            " ['Iris-setosa']\n",
            " ['Iris-setosa']\n",
            " ['Iris-setosa']\n",
            " ['Iris-setosa']\n",
            " ['Iris-setosa']\n",
            " ['Iris-setosa']\n",
            " ['Iris-setosa']\n",
            " ['Iris-setosa']\n",
            " ['Iris-setosa']\n",
            " ['Iris-setosa']\n",
            " ['Iris-setosa']\n",
            " ['Iris-setosa']\n",
            " ['Iris-setosa']\n",
            " ['Iris-setosa']\n",
            " ['Iris-setosa']\n",
            " ['Iris-setosa']\n",
            " ['Iris-setosa']\n",
            " ['Iris-setosa']\n",
            " ['Iris-setosa']\n",
            " ['Iris-setosa']\n",
            " ['Iris-setosa']\n",
            " ['Iris-setosa']\n",
            " ['Iris-setosa']\n",
            " ['Iris-setosa']\n",
            " ['Iris-versicolor']\n",
            " ['Iris-versicolor']\n",
            " ['Iris-versicolor']\n",
            " ['Iris-versicolor']\n",
            " ['Iris-versicolor']\n",
            " ['Iris-versicolor']\n",
            " ['Iris-versicolor']\n",
            " ['Iris-versicolor']\n",
            " ['Iris-versicolor']\n",
            " ['Iris-versicolor']\n",
            " ['Iris-versicolor']\n",
            " ['Iris-versicolor']\n",
            " ['Iris-versicolor']\n",
            " ['Iris-versicolor']\n",
            " ['Iris-versicolor']\n",
            " ['Iris-versicolor']\n",
            " ['Iris-versicolor']\n",
            " ['Iris-versicolor']\n",
            " ['Iris-versicolor']\n",
            " ['Iris-versicolor']\n",
            " ['Iris-versicolor']\n",
            " ['Iris-versicolor']\n",
            " ['Iris-versicolor']\n",
            " ['Iris-versicolor']\n",
            " ['Iris-versicolor']\n",
            " ['Iris-versicolor']\n",
            " ['Iris-versicolor']\n",
            " ['Iris-versicolor']\n",
            " ['Iris-versicolor']\n",
            " ['Iris-versicolor']\n",
            " ['Iris-versicolor']\n",
            " ['Iris-versicolor']\n",
            " ['Iris-versicolor']\n",
            " ['Iris-versicolor']\n",
            " ['Iris-versicolor']\n",
            " ['Iris-versicolor']\n",
            " ['Iris-versicolor']\n",
            " ['Iris-versicolor']\n",
            " ['Iris-versicolor']\n",
            " ['Iris-versicolor']\n",
            " ['Iris-versicolor']\n",
            " ['Iris-versicolor']\n",
            " ['Iris-versicolor']\n",
            " ['Iris-versicolor']\n",
            " ['Iris-versicolor']\n",
            " ['Iris-versicolor']\n",
            " ['Iris-versicolor']\n",
            " ['Iris-versicolor']\n",
            " ['Iris-versicolor']\n",
            " ['Iris-versicolor']\n",
            " ['Iris-virginica']\n",
            " ['Iris-virginica']\n",
            " ['Iris-virginica']\n",
            " ['Iris-virginica']\n",
            " ['Iris-virginica']\n",
            " ['Iris-virginica']\n",
            " ['Iris-virginica']\n",
            " ['Iris-virginica']\n",
            " ['Iris-virginica']\n",
            " ['Iris-virginica']\n",
            " ['Iris-virginica']\n",
            " ['Iris-virginica']\n",
            " ['Iris-virginica']\n",
            " ['Iris-virginica']\n",
            " ['Iris-virginica']\n",
            " ['Iris-virginica']\n",
            " ['Iris-virginica']\n",
            " ['Iris-virginica']\n",
            " ['Iris-virginica']\n",
            " ['Iris-virginica']\n",
            " ['Iris-virginica']\n",
            " ['Iris-virginica']\n",
            " ['Iris-virginica']\n",
            " ['Iris-virginica']\n",
            " ['Iris-virginica']\n",
            " ['Iris-virginica']\n",
            " ['Iris-virginica']\n",
            " ['Iris-virginica']\n",
            " ['Iris-virginica']\n",
            " ['Iris-virginica']\n",
            " ['Iris-virginica']\n",
            " ['Iris-virginica']\n",
            " ['Iris-virginica']\n",
            " ['Iris-virginica']\n",
            " ['Iris-virginica']\n",
            " ['Iris-virginica']\n",
            " ['Iris-virginica']\n",
            " ['Iris-virginica']\n",
            " ['Iris-virginica']\n",
            " ['Iris-virginica']\n",
            " ['Iris-virginica']\n",
            " ['Iris-virginica']\n",
            " ['Iris-virginica']\n",
            " ['Iris-virginica']\n",
            " ['Iris-virginica']\n",
            " ['Iris-virginica']\n",
            " ['Iris-virginica']\n",
            " ['Iris-virginica']\n",
            " ['Iris-virginica']\n",
            " ['Iris-virginica']]\n"
          ],
          "name": "stdout"
        }
      ]
    },
    {
      "cell_type": "markdown",
      "metadata": {
        "id": "c9bOaY9zqazN"
      },
      "source": [
        "### Encoding  output data\r\n",
        "\r\n",
        "\r\n",
        "\r\n"
      ]
    },
    {
      "cell_type": "code",
      "metadata": {
        "colab": {
          "base_uri": "https://localhost:8080/"
        },
        "id": "ceGPGEQiqZxp",
        "outputId": "90d6d1f1-f188-45bb-8aea-534d657dd3ab"
      },
      "source": [
        "from sklearn.preprocessing import LabelEncoder\r\n",
        "labelEncoder=LabelEncoder()\r\n",
        "y=labelEncoder.fit_transform(y)"
      ],
      "execution_count": 63,
      "outputs": [
        {
          "output_type": "stream",
          "text": [
            "/usr/local/lib/python3.6/dist-packages/sklearn/preprocessing/_label.py:251: DataConversionWarning: A column-vector y was passed when a 1d array was expected. Please change the shape of y to (n_samples, ), for example using ravel().\n",
            "  y = column_or_1d(y, warn=True)\n"
          ],
          "name": "stderr"
        }
      ]
    },
    {
      "cell_type": "markdown",
      "metadata": {
        "id": "adSNeIrNrBmz"
      },
      "source": [
        "### Splitting the dataset into the Training set and Test set"
      ]
    },
    {
      "cell_type": "code",
      "metadata": {
        "id": "z0oYFZkbrBuq"
      },
      "source": [
        "from sklearn.model_selection import train_test_split\r\n",
        "X_train, X_test, y_train, y_test = train_test_split(X, y, test_size = 0.25, random_state = 0)"
      ],
      "execution_count": 64,
      "outputs": []
    },
    {
      "cell_type": "markdown",
      "metadata": {
        "id": "kd4GJd7CsrXt"
      },
      "source": [
        "### Feature scaling"
      ]
    },
    {
      "cell_type": "code",
      "metadata": {
        "id": "71u---UdsrlU"
      },
      "source": [
        "from sklearn.preprocessing import StandardScaler\r\n",
        "sc = StandardScaler()\r\n",
        "X_train = sc.fit_transform(X_train)\r\n",
        "X_test = sc.transform(X_test)"
      ],
      "execution_count": 65,
      "outputs": []
    },
    {
      "cell_type": "markdown",
      "metadata": {
        "id": "_i2sqMzHtJYv"
      },
      "source": [
        "###Training"
      ]
    },
    {
      "cell_type": "code",
      "metadata": {
        "colab": {
          "base_uri": "https://localhost:8080/"
        },
        "id": "OTMaYglMtI1q",
        "outputId": "ea767295-e6cd-443f-bb89-c5632a7fe020"
      },
      "source": [
        "from sklearn.svm import SVC\r\n",
        "classifier= SVC(kernel=\"rbf\")\r\n",
        "classifier.fit(X_train, y_train)"
      ],
      "execution_count": 66,
      "outputs": [
        {
          "output_type": "execute_result",
          "data": {
            "text/plain": [
              "SVC(C=1.0, break_ties=False, cache_size=200, class_weight=None, coef0=0.0,\n",
              "    decision_function_shape='ovr', degree=3, gamma='scale', kernel='rbf',\n",
              "    max_iter=-1, probability=False, random_state=None, shrinking=True,\n",
              "    tol=0.001, verbose=False)"
            ]
          },
          "metadata": {
            "tags": []
          },
          "execution_count": 66
        }
      ]
    },
    {
      "cell_type": "markdown",
      "metadata": {
        "id": "AGjoNn0etylX"
      },
      "source": [
        "###Predicting"
      ]
    },
    {
      "cell_type": "code",
      "metadata": {
        "colab": {
          "base_uri": "https://localhost:8080/"
        },
        "id": "T84ZLi2_tyxj",
        "outputId": "1d3f2163-d9e4-4ea3-ae03-a1ac2ba22a40"
      },
      "source": [
        "y_pred = classifier.predict(X_test)\r\n",
        "print(np.concatenate((y_pred.reshape(len(y_pred),1), y_test.reshape(len(y_test),1)),1))"
      ],
      "execution_count": 67,
      "outputs": [
        {
          "output_type": "stream",
          "text": [
            "[[2 2]\n",
            " [2 2]\n",
            " [1 1]\n",
            " [1 1]\n",
            " [0 0]\n",
            " [2 2]\n",
            " [2 2]\n",
            " [1 1]\n",
            " [1 2]\n",
            " [1 1]\n",
            " [0 0]\n",
            " [0 0]\n",
            " [1 1]\n",
            " [0 0]\n",
            " [0 0]\n",
            " [1 2]\n",
            " [2 2]\n",
            " [1 1]\n",
            " [0 0]\n",
            " [0 0]\n",
            " [0 0]\n",
            " [0 0]\n",
            " [1 1]\n",
            " [0 0]\n",
            " [1 1]\n",
            " [1 1]\n",
            " [1 1]\n",
            " [0 0]\n",
            " [0 0]\n",
            " [2 2]\n",
            " [0 0]\n",
            " [1 1]\n",
            " [1 1]\n",
            " [2 1]\n",
            " [0 0]\n",
            " [1 2]\n",
            " [2 2]\n",
            " [1 1]]\n"
          ],
          "name": "stdout"
        }
      ]
    },
    {
      "cell_type": "markdown",
      "metadata": {
        "id": "vigZ7JC8t2xt"
      },
      "source": [
        "###Calculating accuracy score"
      ]
    },
    {
      "cell_type": "code",
      "metadata": {
        "colab": {
          "base_uri": "https://localhost:8080/"
        },
        "id": "jOplWJBWt26H",
        "outputId": "651ccbc9-69cb-4f3d-9134-67fe3c474426"
      },
      "source": [
        "from sklearn.metrics import accuracy_score\r\n",
        "accuracy_score(y_test, y_pred)"
      ],
      "execution_count": 68,
      "outputs": [
        {
          "output_type": "execute_result",
          "data": {
            "text/plain": [
              "0.8947368421052632"
            ]
          },
          "metadata": {
            "tags": []
          },
          "execution_count": 68
        }
      ]
    },
    {
      "cell_type": "markdown",
      "metadata": {
        "id": "2ikR3qtHuJKY"
      },
      "source": [
        "###Testing  input"
      ]
    },
    {
      "cell_type": "code",
      "metadata": {
        "colab": {
          "base_uri": "https://localhost:8080/"
        },
        "id": "xnqcmrpCuJwG",
        "outputId": "8f4f1839-ca66-475d-b1f8-faa85dd73105"
      },
      "source": [
        "output=classifier.predict(sc.transform([[5.8,2.0,3.5,1.1]]))\r\n",
        "labeled_output=labelEncoder.inverse_transform(output)\r\n",
        "print(labeled_output)"
      ],
      "execution_count": 75,
      "outputs": [
        {
          "output_type": "stream",
          "text": [
            "['Iris-versicolor']\n"
          ],
          "name": "stdout"
        }
      ]
    }
  ]
}