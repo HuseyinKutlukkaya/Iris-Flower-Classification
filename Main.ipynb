{
  "nbformat": 4,
  "nbformat_minor": 0,
  "metadata": {
    "colab": {
      "name": "Main.ipynb",
      "provenance": [],
      "authorship_tag": "ABX9TyPPtA9Wh2vpxEMcUenzGcFv",
      "include_colab_link": true
    },
    "kernelspec": {
      "name": "python3",
      "display_name": "Python 3"
    }
  },
  "cells": [
    {
      "cell_type": "markdown",
      "metadata": {
        "id": "view-in-github",
        "colab_type": "text"
      },
      "source": [
        "<a href=\"https://colab.research.google.com/github/HuseyinKutlukkaya/Iris-Flower-Classification/blob/main/Main.ipynb\" target=\"_parent\"><img src=\"https://colab.research.google.com/assets/colab-badge.svg\" alt=\"Open In Colab\"/></a>"
      ]
    },
    {
      "cell_type": "markdown",
      "metadata": {
        "id": "iFN_IeMgpC9p"
      },
      "source": [
        "###Importing the libraries"
      ]
    },
    {
      "cell_type": "code",
      "metadata": {
        "id": "1AMW24-EokVi"
      },
      "source": [
        "import numpy as np\r\n",
        "import matplotlib.pyplot as plt\r\n",
        "import pandas as pd\r\n"
      ],
      "execution_count": 1,
      "outputs": []
    },
    {
      "cell_type": "markdown",
      "metadata": {
        "id": "G4CvyRHVpTKv"
      },
      "source": [
        "###Importing the dataset"
      ]
    },
    {
      "cell_type": "code",
      "metadata": {
        "id": "7LHYHILopX5Z"
      },
      "source": [
        "dataset=pd.read_csv('iris.data')\r\n",
        "x=dataset.iloc[:,:-1].values\r\n",
        "y=dataset.iloc[:,-1].values"
      ],
      "execution_count": 2,
      "outputs": []
    },
    {
      "cell_type": "code",
      "metadata": {
        "id": "6LACY9CApqwM"
      },
      "source": [
        "print(x)\r\n",
        "print(y)"
      ],
      "execution_count": null,
      "outputs": []
    },
    {
      "cell_type": "markdown",
      "metadata": {
        "id": "c9bOaY9zqazN"
      },
      "source": [
        "### Encoding  output data\r\n",
        "\r\n",
        "\r\n",
        "\r\n"
      ]
    },
    {
      "cell_type": "code",
      "metadata": {
        "id": "ceGPGEQiqZxp"
      },
      "source": [
        "from sklearn.preprocessing import LabelEncoder\r\n",
        "labelEncoder=LabelEncoder()\r\n",
        "y=labelEncoder.fit_transform(y)"
      ],
      "execution_count": 6,
      "outputs": []
    },
    {
      "cell_type": "code",
      "metadata": {
        "id": "R9Lrg5-srSe5"
      },
      "source": [
        "print(y)"
      ],
      "execution_count": null,
      "outputs": []
    },
    {
      "cell_type": "markdown",
      "metadata": {
        "id": "adSNeIrNrBmz"
      },
      "source": [
        "### Splitting the dataset into the Training set and Test set"
      ]
    },
    {
      "cell_type": "code",
      "metadata": {
        "id": "z0oYFZkbrBuq"
      },
      "source": [
        "from sklearn.model_selection import train_test_split\r\n",
        "X_train, X_test, y_train, y_test = train_test_split(X, y, test_size = 0.25, random_state = 0)"
      ],
      "execution_count": null,
      "outputs": []
    },
    {
      "cell_type": "markdown",
      "metadata": {
        "id": "kd4GJd7CsrXt"
      },
      "source": [
        "### Feature Scaling"
      ]
    },
    {
      "cell_type": "code",
      "metadata": {
        "id": "71u---UdsrlU"
      },
      "source": [
        ""
      ],
      "execution_count": null,
      "outputs": []
    }
  ]
}